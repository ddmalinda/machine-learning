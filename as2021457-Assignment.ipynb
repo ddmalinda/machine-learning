{
 "cells": [
  {
   "cell_type": "markdown",
   "metadata": {},
   "source": [
    " AS2021457\n",
    " R.M.D.D.Malinda"
   ]
  },
  {
   "cell_type": "markdown",
   "metadata": {},
   "source": [
    "#import"
   ]
  },
  {
   "cell_type": "code",
   "execution_count": 36,
   "metadata": {},
   "outputs": [],
   "source": [
    "import pandas as pd \n",
    "\n",
    "from sklearn.neighbors import KNeighborsClassifier\n",
    "from sklearn.model_selection import train_test_split \n",
    "from sklearn.metrics import accuracy_score\n"
   ]
  },
  {
   "cell_type": "markdown",
   "metadata": {},
   "source": [
    "#Load the data"
   ]
  },
  {
   "cell_type": "code",
   "execution_count": 37,
   "metadata": {},
   "outputs": [
    {
     "data": {
      "text/html": [
       "<div>\n",
       "<style scoped>\n",
       "    .dataframe tbody tr th:only-of-type {\n",
       "        vertical-align: middle;\n",
       "    }\n",
       "\n",
       "    .dataframe tbody tr th {\n",
       "        vertical-align: top;\n",
       "    }\n",
       "\n",
       "    .dataframe thead th {\n",
       "        text-align: right;\n",
       "    }\n",
       "</style>\n",
       "<table border=\"1\" class=\"dataframe\">\n",
       "  <thead>\n",
       "    <tr style=\"text-align: right;\">\n",
       "      <th></th>\n",
       "      <th>X</th>\n",
       "      <th>Y</th>\n",
       "      <th>class</th>\n",
       "    </tr>\n",
       "  </thead>\n",
       "  <tbody>\n",
       "    <tr>\n",
       "      <th>0</th>\n",
       "      <td>-1.203829</td>\n",
       "      <td>-2.099227</td>\n",
       "      <td>C1</td>\n",
       "    </tr>\n",
       "    <tr>\n",
       "      <th>1</th>\n",
       "      <td>-0.299217</td>\n",
       "      <td>-3.208061</td>\n",
       "      <td>C1</td>\n",
       "    </tr>\n",
       "    <tr>\n",
       "      <th>2</th>\n",
       "      <td>-0.409827</td>\n",
       "      <td>-2.093781</td>\n",
       "      <td>C1</td>\n",
       "    </tr>\n",
       "    <tr>\n",
       "      <th>3</th>\n",
       "      <td>-1.858703</td>\n",
       "      <td>-1.502237</td>\n",
       "      <td>C1</td>\n",
       "    </tr>\n",
       "    <tr>\n",
       "      <th>4</th>\n",
       "      <td>-1.629928</td>\n",
       "      <td>-1.268671</td>\n",
       "      <td>C1</td>\n",
       "    </tr>\n",
       "    <tr>\n",
       "      <th>...</th>\n",
       "      <td>...</td>\n",
       "      <td>...</td>\n",
       "      <td>...</td>\n",
       "    </tr>\n",
       "    <tr>\n",
       "      <th>215</th>\n",
       "      <td>-0.491319</td>\n",
       "      <td>-0.199948</td>\n",
       "      <td>0</td>\n",
       "    </tr>\n",
       "    <tr>\n",
       "      <th>216</th>\n",
       "      <td>1.336830</td>\n",
       "      <td>1.483775</td>\n",
       "      <td>0</td>\n",
       "    </tr>\n",
       "    <tr>\n",
       "      <th>217</th>\n",
       "      <td>0.974509</td>\n",
       "      <td>2.438590</td>\n",
       "      <td>0</td>\n",
       "    </tr>\n",
       "    <tr>\n",
       "      <th>218</th>\n",
       "      <td>1.752166</td>\n",
       "      <td>1.892155</td>\n",
       "      <td>0</td>\n",
       "    </tr>\n",
       "    <tr>\n",
       "      <th>219</th>\n",
       "      <td>-0.392623</td>\n",
       "      <td>0.126900</td>\n",
       "      <td>0</td>\n",
       "    </tr>\n",
       "  </tbody>\n",
       "</table>\n",
       "<p>220 rows × 3 columns</p>\n",
       "</div>"
      ],
      "text/plain": [
       "            X         Y class\n",
       "0   -1.203829 -2.099227    C1\n",
       "1   -0.299217 -3.208061    C1\n",
       "2   -0.409827 -2.093781    C1\n",
       "3   -1.858703 -1.502237    C1\n",
       "4   -1.629928 -1.268671    C1\n",
       "..        ...       ...   ...\n",
       "215 -0.491319 -0.199948     0\n",
       "216  1.336830  1.483775     0\n",
       "217  0.974509  2.438590     0\n",
       "218  1.752166  1.892155     0\n",
       "219 -0.392623  0.126900     0\n",
       "\n",
       "[220 rows x 3 columns]"
      ]
     },
     "execution_count": 37,
     "metadata": {},
     "output_type": "execute_result"
    }
   ],
   "source": [
    "data = pd.read_excel(\"./data3.xlsx\")\n",
    "data.insert(2,'class','0')\n",
    "data.loc[:100,'class'] ='C1'\n",
    "data.loc[100:200,'class']='C2'\n",
    "data.head(220)\n"
   ]
  },
  {
   "cell_type": "code",
   "execution_count": 38,
   "metadata": {},
   "outputs": [
    {
     "data": {
      "text/html": [
       "<div>\n",
       "<style scoped>\n",
       "    .dataframe tbody tr th:only-of-type {\n",
       "        vertical-align: middle;\n",
       "    }\n",
       "\n",
       "    .dataframe tbody tr th {\n",
       "        vertical-align: top;\n",
       "    }\n",
       "\n",
       "    .dataframe thead th {\n",
       "        text-align: right;\n",
       "    }\n",
       "</style>\n",
       "<table border=\"1\" class=\"dataframe\">\n",
       "  <thead>\n",
       "    <tr style=\"text-align: right;\">\n",
       "      <th></th>\n",
       "      <th>X</th>\n",
       "      <th>Y</th>\n",
       "      <th>class</th>\n",
       "    </tr>\n",
       "  </thead>\n",
       "  <tbody>\n",
       "    <tr>\n",
       "      <th>200</th>\n",
       "      <td>-1.447007</td>\n",
       "      <td>-3.353759</td>\n",
       "      <td>C2</td>\n",
       "    </tr>\n",
       "    <tr>\n",
       "      <th>201</th>\n",
       "      <td>-1.677890</td>\n",
       "      <td>-2.103351</td>\n",
       "      <td>0</td>\n",
       "    </tr>\n",
       "    <tr>\n",
       "      <th>202</th>\n",
       "      <td>0.272483</td>\n",
       "      <td>-1.895226</td>\n",
       "      <td>0</td>\n",
       "    </tr>\n",
       "    <tr>\n",
       "      <th>203</th>\n",
       "      <td>-4.008804</td>\n",
       "      <td>-0.246848</td>\n",
       "      <td>0</td>\n",
       "    </tr>\n",
       "    <tr>\n",
       "      <th>204</th>\n",
       "      <td>-1.956589</td>\n",
       "      <td>-0.731371</td>\n",
       "      <td>0</td>\n",
       "    </tr>\n",
       "    <tr>\n",
       "      <th>205</th>\n",
       "      <td>0.930378</td>\n",
       "      <td>-2.605688</td>\n",
       "      <td>0</td>\n",
       "    </tr>\n",
       "    <tr>\n",
       "      <th>206</th>\n",
       "      <td>-1.971454</td>\n",
       "      <td>-0.674624</td>\n",
       "      <td>0</td>\n",
       "    </tr>\n",
       "    <tr>\n",
       "      <th>207</th>\n",
       "      <td>-2.060328</td>\n",
       "      <td>-2.334771</td>\n",
       "      <td>0</td>\n",
       "    </tr>\n",
       "    <tr>\n",
       "      <th>208</th>\n",
       "      <td>-2.726467</td>\n",
       "      <td>-0.697899</td>\n",
       "      <td>0</td>\n",
       "    </tr>\n",
       "    <tr>\n",
       "      <th>209</th>\n",
       "      <td>-0.707050</td>\n",
       "      <td>-3.253162</td>\n",
       "      <td>0</td>\n",
       "    </tr>\n",
       "    <tr>\n",
       "      <th>210</th>\n",
       "      <td>-0.097859</td>\n",
       "      <td>-0.574260</td>\n",
       "      <td>0</td>\n",
       "    </tr>\n",
       "    <tr>\n",
       "      <th>211</th>\n",
       "      <td>0.918913</td>\n",
       "      <td>0.980805</td>\n",
       "      <td>0</td>\n",
       "    </tr>\n",
       "    <tr>\n",
       "      <th>212</th>\n",
       "      <td>-0.189681</td>\n",
       "      <td>0.732827</td>\n",
       "      <td>0</td>\n",
       "    </tr>\n",
       "    <tr>\n",
       "      <th>213</th>\n",
       "      <td>1.171191</td>\n",
       "      <td>1.552765</td>\n",
       "      <td>0</td>\n",
       "    </tr>\n",
       "    <tr>\n",
       "      <th>214</th>\n",
       "      <td>0.650897</td>\n",
       "      <td>0.581086</td>\n",
       "      <td>0</td>\n",
       "    </tr>\n",
       "    <tr>\n",
       "      <th>215</th>\n",
       "      <td>-0.491319</td>\n",
       "      <td>-0.199948</td>\n",
       "      <td>0</td>\n",
       "    </tr>\n",
       "    <tr>\n",
       "      <th>216</th>\n",
       "      <td>1.336830</td>\n",
       "      <td>1.483775</td>\n",
       "      <td>0</td>\n",
       "    </tr>\n",
       "    <tr>\n",
       "      <th>217</th>\n",
       "      <td>0.974509</td>\n",
       "      <td>2.438590</td>\n",
       "      <td>0</td>\n",
       "    </tr>\n",
       "    <tr>\n",
       "      <th>218</th>\n",
       "      <td>1.752166</td>\n",
       "      <td>1.892155</td>\n",
       "      <td>0</td>\n",
       "    </tr>\n",
       "    <tr>\n",
       "      <th>219</th>\n",
       "      <td>-0.392623</td>\n",
       "      <td>0.126900</td>\n",
       "      <td>0</td>\n",
       "    </tr>\n",
       "  </tbody>\n",
       "</table>\n",
       "</div>"
      ],
      "text/plain": [
       "            X         Y class\n",
       "200 -1.447007 -3.353759    C2\n",
       "201 -1.677890 -2.103351     0\n",
       "202  0.272483 -1.895226     0\n",
       "203 -4.008804 -0.246848     0\n",
       "204 -1.956589 -0.731371     0\n",
       "205  0.930378 -2.605688     0\n",
       "206 -1.971454 -0.674624     0\n",
       "207 -2.060328 -2.334771     0\n",
       "208 -2.726467 -0.697899     0\n",
       "209 -0.707050 -3.253162     0\n",
       "210 -0.097859 -0.574260     0\n",
       "211  0.918913  0.980805     0\n",
       "212 -0.189681  0.732827     0\n",
       "213  1.171191  1.552765     0\n",
       "214  0.650897  0.581086     0\n",
       "215 -0.491319 -0.199948     0\n",
       "216  1.336830  1.483775     0\n",
       "217  0.974509  2.438590     0\n",
       "218  1.752166  1.892155     0\n",
       "219 -0.392623  0.126900     0"
      ]
     },
     "execution_count": 38,
     "metadata": {},
     "output_type": "execute_result"
    }
   ],
   "source": [
    "data.tail(20)"
   ]
  },
  {
   "cell_type": "markdown",
   "metadata": {},
   "source": [
    "#Spilit the Data as test and training data\n",
    "\n",
    "\n"
   ]
  },
  {
   "cell_type": "code",
   "execution_count": 39,
   "metadata": {},
   "outputs": [
    {
     "data": {
      "text/html": [
       "<div>\n",
       "<style scoped>\n",
       "    .dataframe tbody tr th:only-of-type {\n",
       "        vertical-align: middle;\n",
       "    }\n",
       "\n",
       "    .dataframe tbody tr th {\n",
       "        vertical-align: top;\n",
       "    }\n",
       "\n",
       "    .dataframe thead th {\n",
       "        text-align: right;\n",
       "    }\n",
       "</style>\n",
       "<table border=\"1\" class=\"dataframe\">\n",
       "  <thead>\n",
       "    <tr style=\"text-align: right;\">\n",
       "      <th></th>\n",
       "      <th>X</th>\n",
       "      <th>Y</th>\n",
       "    </tr>\n",
       "  </thead>\n",
       "  <tbody>\n",
       "    <tr>\n",
       "      <th>0</th>\n",
       "      <td>-1.203829</td>\n",
       "      <td>-2.099227</td>\n",
       "    </tr>\n",
       "    <tr>\n",
       "      <th>1</th>\n",
       "      <td>-0.299217</td>\n",
       "      <td>-3.208061</td>\n",
       "    </tr>\n",
       "    <tr>\n",
       "      <th>2</th>\n",
       "      <td>-0.409827</td>\n",
       "      <td>-2.093781</td>\n",
       "    </tr>\n",
       "    <tr>\n",
       "      <th>3</th>\n",
       "      <td>-1.858703</td>\n",
       "      <td>-1.502237</td>\n",
       "    </tr>\n",
       "    <tr>\n",
       "      <th>4</th>\n",
       "      <td>-1.629928</td>\n",
       "      <td>-1.268671</td>\n",
       "    </tr>\n",
       "    <tr>\n",
       "      <th>...</th>\n",
       "      <td>...</td>\n",
       "      <td>...</td>\n",
       "    </tr>\n",
       "    <tr>\n",
       "      <th>195</th>\n",
       "      <td>1.823093</td>\n",
       "      <td>1.351607</td>\n",
       "    </tr>\n",
       "    <tr>\n",
       "      <th>196</th>\n",
       "      <td>-0.017359</td>\n",
       "      <td>-0.519224</td>\n",
       "    </tr>\n",
       "    <tr>\n",
       "      <th>197</th>\n",
       "      <td>0.524315</td>\n",
       "      <td>-1.965887</td>\n",
       "    </tr>\n",
       "    <tr>\n",
       "      <th>198</th>\n",
       "      <td>0.337633</td>\n",
       "      <td>0.882621</td>\n",
       "    </tr>\n",
       "    <tr>\n",
       "      <th>199</th>\n",
       "      <td>-0.105661</td>\n",
       "      <td>-0.099044</td>\n",
       "    </tr>\n",
       "  </tbody>\n",
       "</table>\n",
       "<p>200 rows × 2 columns</p>\n",
       "</div>"
      ],
      "text/plain": [
       "            X         Y\n",
       "0   -1.203829 -2.099227\n",
       "1   -0.299217 -3.208061\n",
       "2   -0.409827 -2.093781\n",
       "3   -1.858703 -1.502237\n",
       "4   -1.629928 -1.268671\n",
       "..        ...       ...\n",
       "195  1.823093  1.351607\n",
       "196 -0.017359 -0.519224\n",
       "197  0.524315 -1.965887\n",
       "198  0.337633  0.882621\n",
       "199 -0.105661 -0.099044\n",
       "\n",
       "[200 rows x 2 columns]"
      ]
     },
     "execution_count": 39,
     "metadata": {},
     "output_type": "execute_result"
    }
   ],
   "source": [
    "\n",
    "x_data = data.iloc[:200,:2]\n",
    "y_data = data.iloc[:200, 2]\n",
    "x_data.head(200)"
   ]
  },
  {
   "cell_type": "markdown",
   "metadata": {},
   "source": [
    "**80% of the labeled data used for training and other 20% taken as test data to calculate the accuracy of the model.**"
   ]
  },
  {
   "cell_type": "code",
   "execution_count": 40,
   "metadata": {},
   "outputs": [],
   "source": [
    "X_train,x_test,y_train,y_test= train_test_split(x_data,y_data,train_size=0.8,test_size=0.2,random_state=1)"
   ]
  },
  {
   "cell_type": "markdown",
   "metadata": {},
   "source": [
    "**(a) Classify the last 20 points using k=1 and k=3 nearest neighbor rules an  Euclidean distance measure.**"
   ]
  },
  {
   "cell_type": "markdown",
   "metadata": {},
   "source": [
    "**when** k=1"
   ]
  },
  {
   "cell_type": "code",
   "execution_count": 41,
   "metadata": {},
   "outputs": [
    {
     "data": {
      "text/plain": [
       "array(['C1', 'C1', 'C1', 'C1', 'C1', 'C1', 'C1', 'C1', 'C1', 'C1', 'C2',\n",
       "       'C2', 'C2', 'C2', 'C2', 'C2', 'C2', 'C2', 'C2', 'C2'], dtype=object)"
      ]
     },
     "execution_count": 41,
     "metadata": {},
     "output_type": "execute_result"
    }
   ],
   "source": [
    "knn1Euclidean = KNeighborsClassifier(n_neighbors=1,metric='euclidean')\n",
    "knn1Euclidean.fit(X_train,y_train)\n",
    "knn1Euclidean.predict(data.iloc[200:,:2])"
   ]
  },
  {
   "cell_type": "markdown",
   "metadata": {},
   "source": [
    "**when** k=3\n"
   ]
  },
  {
   "cell_type": "code",
   "execution_count": 42,
   "metadata": {},
   "outputs": [
    {
     "data": {
      "text/plain": [
       "array(['C1', 'C1', 'C1', 'C1', 'C1', 'C1', 'C1', 'C1', 'C1', 'C1', 'C2',\n",
       "       'C2', 'C2', 'C2', 'C2', 'C2', 'C2', 'C2', 'C2', 'C2'], dtype=object)"
      ]
     },
     "execution_count": 42,
     "metadata": {},
     "output_type": "execute_result"
    }
   ],
   "source": [
    "knn3Euclidean = KNeighborsClassifier(n_neighbors=3,metric='euclidean')\n",
    "knn3Euclidean.fit(X_train,y_train)\n",
    "knn3Euclidean.predict(data.iloc[200:,:2])"
   ]
  },
  {
   "cell_type": "markdown",
   "metadata": {},
   "source": [
    "**(b)Which of the values of k seem to give more accurate results? (Calculate the accuracy for each K value)**"
   ]
  },
  {
   "cell_type": "markdown",
   "metadata": {},
   "source": [
    "**when** k=1"
   ]
  },
  {
   "cell_type": "code",
   "execution_count": 43,
   "metadata": {},
   "outputs": [
    {
     "name": "stdout",
     "output_type": "stream",
     "text": [
      "Accurancy = 0.85\n"
     ]
    }
   ],
   "source": [
    "k1Pred=knn1Euclidean.predict(x_test)\n",
    "accuracy = accuracy_score(y_test,k1Pred)\n",
    "print(\"Accurancy =\", accuracy)"
   ]
  },
  {
   "cell_type": "markdown",
   "metadata": {},
   "source": [
    "**when** k=3"
   ]
  },
  {
   "cell_type": "code",
   "execution_count": 44,
   "metadata": {},
   "outputs": [
    {
     "name": "stdout",
     "output_type": "stream",
     "text": [
      "Accurancy = 0.95\n"
     ]
    }
   ],
   "source": [
    "k3Pred=knn3Euclidean.predict(x_test)\n",
    "accuracy = accuracy_score(y_test,k3Pred)\n",
    "print(\"Accurancy =\", accuracy)"
   ]
  },
  {
   "cell_type": "markdown",
   "metadata": {},
   "source": [
    "*conclusion*: Result are same accurate. so  we can use any values of K that accoding to results."
   ]
  },
  {
   "cell_type": "markdown",
   "metadata": {},
   "source": [
    "**(c) Repeat the classification using Manhattan, Cosine and Chebyshev distance as proximity measure.**"
   ]
  },
  {
   "cell_type": "markdown",
   "metadata": {},
   "source": [
    "k=1"
   ]
  },
  {
   "cell_type": "code",
   "execution_count": 45,
   "metadata": {},
   "outputs": [
    {
     "data": {
      "text/plain": [
       "array(['C1', 'C1', 'C1', 'C1', 'C1', 'C1', 'C1', 'C1', 'C1', 'C1', 'C2',\n",
       "       'C2', 'C2', 'C2', 'C2', 'C2', 'C2', 'C2', 'C2', 'C2'], dtype=object)"
      ]
     },
     "execution_count": 45,
     "metadata": {},
     "output_type": "execute_result"
    }
   ],
   "source": [
    "#Manhattan Distance\n",
    "knn1Manhattan=KNeighborsClassifier(n_neighbors=1,metric='manhattan')\n",
    "knn1Manhattan.fit(X_train,y_train)\n",
    "knn1Manhattan.predict(data.iloc[200:,:2])"
   ]
  },
  {
   "cell_type": "code",
   "execution_count": 46,
   "metadata": {},
   "outputs": [
    {
     "data": {
      "text/plain": [
       "array(['C1', 'C1', 'C1', 'C1', 'C1', 'C2', 'C1', 'C1', 'C1', 'C2', 'C1',\n",
       "       'C2', 'C2', 'C2', 'C2', 'C1', 'C2', 'C2', 'C2', 'C2'], dtype=object)"
      ]
     },
     "execution_count": 46,
     "metadata": {},
     "output_type": "execute_result"
    }
   ],
   "source": [
    "#consine Distance \n",
    "knn1Cosine = KNeighborsClassifier(n_neighbors=1,metric='cosine')\n",
    "knn1Cosine.fit(X_train,y_train)\n",
    "knn1Cosine.predict(data.iloc[200:,:2])"
   ]
  },
  {
   "cell_type": "code",
   "execution_count": 47,
   "metadata": {},
   "outputs": [
    {
     "data": {
      "text/plain": [
       "array(['C1', 'C1', 'C1', 'C1', 'C1', 'C1', 'C1', 'C1', 'C1', 'C1', 'C2',\n",
       "       'C2', 'C2', 'C2', 'C2', 'C2', 'C2', 'C2', 'C2', 'C2'], dtype=object)"
      ]
     },
     "execution_count": 47,
     "metadata": {},
     "output_type": "execute_result"
    }
   ],
   "source": [
    "#chebyshev Distance\n",
    "knn1Chebyshev = KNeighborsClassifier(n_neighbors=1,metric='chebyshev')\n",
    "knn1Chebyshev.fit(X_train,y_train)\n",
    "knn1Chebyshev.predict(data.iloc[200:,:2])"
   ]
  },
  {
   "cell_type": "markdown",
   "metadata": {},
   "source": [
    "k=3"
   ]
  },
  {
   "cell_type": "code",
   "execution_count": 48,
   "metadata": {},
   "outputs": [
    {
     "data": {
      "text/plain": [
       "array(['C1', 'C1', 'C1', 'C1', 'C1', 'C1', 'C1', 'C1', 'C1', 'C1', 'C2',\n",
       "       'C2', 'C2', 'C2', 'C2', 'C2', 'C2', 'C2', 'C2', 'C2'], dtype=object)"
      ]
     },
     "execution_count": 48,
     "metadata": {},
     "output_type": "execute_result"
    }
   ],
   "source": [
    "#Manhattan Distance\n",
    "knn3Manhattan=KNeighborsClassifier(n_neighbors=3,metric='manhattan')\n",
    "knn3Manhattan.fit(X_train,y_train)\n",
    "knn3Manhattan.predict(data.iloc[200:,:2])"
   ]
  },
  {
   "cell_type": "code",
   "execution_count": 49,
   "metadata": {},
   "outputs": [
    {
     "data": {
      "text/plain": [
       "array(['C1', 'C1', 'C1', 'C1', 'C1', 'C2', 'C1', 'C1', 'C1', 'C1', 'C1',\n",
       "       'C2', 'C2', 'C2', 'C2', 'C1', 'C2', 'C2', 'C2', 'C1'], dtype=object)"
      ]
     },
     "execution_count": 49,
     "metadata": {},
     "output_type": "execute_result"
    }
   ],
   "source": [
    "#consine Distance \n",
    "knn3Cosine = KNeighborsClassifier(n_neighbors=3,metric='cosine')\n",
    "knn3Cosine.fit(X_train,y_train)\n",
    "knn3Cosine.predict(data.iloc[200:,:2])"
   ]
  },
  {
   "cell_type": "code",
   "execution_count": 50,
   "metadata": {},
   "outputs": [
    {
     "data": {
      "text/plain": [
       "array(['C1', 'C1', 'C1', 'C1', 'C1', 'C1', 'C1', 'C1', 'C1', 'C1', 'C2',\n",
       "       'C2', 'C2', 'C2', 'C2', 'C2', 'C2', 'C2', 'C2', 'C2'], dtype=object)"
      ]
     },
     "execution_count": 50,
     "metadata": {},
     "output_type": "execute_result"
    }
   ],
   "source": [
    "#chebyshev Distance\n",
    "knn3Chebyshev = KNeighborsClassifier(n_neighbors=3,metric='chebyshev')\n",
    "knn3Chebyshev.fit(X_train,y_train)\n",
    "knn3Chebyshev.predict(data.iloc[200:,:2])"
   ]
  },
  {
   "cell_type": "markdown",
   "metadata": {},
   "source": [
    "\n",
    "\n",
    "**(d) Is there a measure that is the most suitable for classifying the points into classes C1 and C2. (Calculate the accuracy for each measure with selected K value)**"
   ]
  },
  {
   "cell_type": "markdown",
   "metadata": {},
   "source": [
    "k=1"
   ]
  },
  {
   "cell_type": "code",
   "execution_count": 51,
   "metadata": {},
   "outputs": [
    {
     "name": "stdout",
     "output_type": "stream",
     "text": [
      "Euclidedean :Accurancy = 0.85\n",
      "\n",
      "Manhattan :Accurancy = 0.85\n",
      "\n",
      "Cosine :Accurancy = 0.9\n",
      "\n",
      "Chebyshev :Accurancy = 0.85\n"
     ]
    }
   ],
   "source": [
    "#euclidean\n",
    "k1Pred_euc=knn1Euclidean.predict(x_test)\n",
    "accuracyEuclidean = accuracy_score(y_test,k1Pred_euc)\n",
    "print(\"Euclidedean :Accurancy =\", accuracyEuclidean)\n",
    "\n",
    "#manhattan\n",
    "k1Pred_man=knn1Manhattan.predict(x_test)\n",
    "accuracyManhattan = accuracy_score(y_test,k1Pred_man)\n",
    "print(\"\\nManhattan :Accurancy =\", accuracyManhattan)\n",
    "\n",
    "#cosine\n",
    "k1Pred_cos=knn1Cosine.predict(x_test)\n",
    "accuracyCosine = accuracy_score(y_test,k1Pred_cos)\n",
    "print(\"\\nCosine :Accurancy =\", accuracyCosine)\n",
    "\n",
    "#chebyshev\n",
    "k1Pred_euc=knn1Euclidean.predict(x_test)\n",
    "accuracyChebyshev= accuracy_score(y_test,k1Pred_euc)\n",
    "print(\"\\nChebyshev :Accurancy =\", accuracyChebyshev)\n",
    "\n",
    "\n"
   ]
  },
  {
   "cell_type": "markdown",
   "metadata": {},
   "source": [
    "**conclusion** : \n",
    "\n",
    "In here,  when k=1, Euclidean, Manhattan, Chebyshev accuracy are same(0.85) and less than Cosine(0.9) accuracy. so Cosine is the most suitable for classifying the points into classes C1 and C2."
   ]
  },
  {
   "cell_type": "markdown",
   "metadata": {},
   "source": [
    "k=3"
   ]
  },
  {
   "cell_type": "code",
   "execution_count": 52,
   "metadata": {},
   "outputs": [
    {
     "name": "stdout",
     "output_type": "stream",
     "text": [
      "Euclidedean :Accurancy = 0.85\n",
      "\n",
      "Manhattan :Accurancy = 0.85\n",
      "\n",
      "Cosine :Accurancy = 0.9\n",
      "\n",
      "Chebyshev :Accurancy = 0.85\n"
     ]
    }
   ],
   "source": [
    "#euclidean\n",
    "k3Pred_euc=knn3Euclidean.predict(x_test)\n",
    "accuracyEuclidean = accuracy_score(y_test,k1Pred_euc)\n",
    "print(\"Euclidedean :Accurancy =\", accuracyEuclidean)\n",
    "\n",
    "#manhattan\n",
    "k3Pred_man=knn3Manhattan.predict(x_test)\n",
    "accuracyManhattan = accuracy_score(y_test,k1Pred_man)\n",
    "print(\"\\nManhattan :Accurancy =\", accuracyManhattan)\n",
    "\n",
    "#cosine\n",
    "k3Pred_cos=knn3Cosine.predict(x_test)\n",
    "accuracyCosine = accuracy_score(y_test,k1Pred_cos)\n",
    "print(\"\\nCosine :Accurancy =\", accuracyCosine)\n",
    "\n",
    "#chebyshev\n",
    "k3Pred_euc=knn3Euclidean.predict(x_test)\n",
    "accuracyChebyshev= accuracy_score(y_test,k1Pred_euc)\n",
    "print(\"\\nChebyshev :Accurancy =\", accuracyChebyshev)\n",
    "\n",
    "\n"
   ]
  },
  {
   "cell_type": "markdown",
   "metadata": {},
   "source": [
    "**conclusion** : \n",
    "\n",
    "In here,  when k=3, Euclidean, Manhattan, Chebyshev accuracy are same(0.85) and less than Cosine(0.9) accuracy. so Cosine is the most suitable for classifying the points into classes C1 and C2."
   ]
  },
  {
   "cell_type": "markdown",
   "metadata": {},
   "source": [
    "***(e) Repeat the problem with weighted K nearest neighbor algorithm for k=1 and k=3 and Euclidean distance measure. Compare your results with results of part (a).***"
   ]
  },
  {
   "cell_type": "code",
   "execution_count": null,
   "metadata": {},
   "outputs": [
    {
     "name": "stdout",
     "output_type": "stream",
     "text": [
      "k=1\n",
      "weight method : uniform\n",
      "Accurancy = 0.85\n",
      "['C1' 'C2' 'C1' 'C2' 'C2' 'C2' 'C1' 'C1' 'C2' 'C2' 'C2' 'C1' 'C2' 'C1'\n",
      " 'C2' 'C2' 'C2' 'C2' 'C2' 'C1' 'C1' 'C1' 'C1' 'C1' 'C1' 'C2' 'C1' 'C1'\n",
      " 'C2' 'C1' 'C2' 'C2' 'C2' 'C2' 'C2' 'C1' 'C1' 'C1' 'C1' 'C2']\n",
      "\n",
      "\n",
      "weight method : distance\n",
      "Accurancy = 0.85\n",
      "['C1' 'C2' 'C1' 'C2' 'C2' 'C2' 'C1' 'C1' 'C2' 'C2' 'C2' 'C1' 'C2' 'C1'\n",
      " 'C2' 'C2' 'C2' 'C2' 'C2' 'C1' 'C1' 'C1' 'C1' 'C1' 'C1' 'C2' 'C1' 'C1'\n",
      " 'C2' 'C1' 'C2' 'C2' 'C2' 'C2' 'C2' 'C1' 'C1' 'C1' 'C1' 'C2']\n"
     ]
    }
   ],
   "source": [
    "#weight method : uniform\n",
    "print(\"k=1\")\n",
    "print(\"weight method : uniform\")\n",
    "\n",
    "knn1Unifrom = KNeighborsClassifier(n_neighbors=1,metric='euclidean',weights='uniform')\n",
    "knn1Unifrom.fit(X_train,y_train)\n",
    "knn1Unifrom.predict(data.iloc[200:,:2])\n",
    "\n",
    "k1Pred_uni=knn1Unifrom.predict(x_test)\n",
    "accuracy = accuracy_score(y_test,k1Pred_uni)\n",
    "print(\"Accurancy =\", accuracy)\n",
    "\n",
    "print(k1Pred_uni)\n",
    "\n",
    "#weight method : distance\n",
    "print(\"\\n\\nweight method : distance\")\n",
    "\n",
    "knn1Distance = KNeighborsClassifier(n_neighbors=1,metric='euclidean',weights='distance')\n",
    "knn1Distance.fit(X_train,y_train)\n",
    "knn1Distance.predict(data.iloc[200:,:2])\n",
    "\n",
    "k1Pred_dis=knn1Unifrom.predict(x_test)\n",
    "accuracy = accuracy_score(y_test,k1Pred_dis)\n",
    "print(\"Accurancy =\", accuracy)\n",
    "\n",
    "print(k1Pred_dis)\n",
    "\n"
   ]
  },
  {
   "cell_type": "code",
   "execution_count": null,
   "metadata": {},
   "outputs": [
    {
     "name": "stdout",
     "output_type": "stream",
     "text": [
      "k=3\n",
      "weight method : uniform\n",
      "Accurancy = 0.95\n",
      "['C1' 'C1' 'C1' 'C2' 'C1' 'C2' 'C1' 'C1' 'C1' 'C2' 'C2' 'C1' 'C1' 'C1'\n",
      " 'C2' 'C2' 'C2' 'C1' 'C2' 'C1' 'C1' 'C1' 'C1' 'C1' 'C1' 'C2' 'C1' 'C1'\n",
      " 'C2' 'C1' 'C1' 'C2' 'C2' 'C2' 'C2' 'C1' 'C1' 'C1' 'C1' 'C2']\n",
      "\n",
      "\n",
      "weight method : distance\n",
      "Accurancy = 0.85\n",
      "['C1' 'C2' 'C1' 'C2' 'C2' 'C2' 'C1' 'C1' 'C2' 'C2' 'C2' 'C1' 'C2' 'C1'\n",
      " 'C2' 'C2' 'C2' 'C2' 'C2' 'C1' 'C1' 'C1' 'C1' 'C1' 'C1' 'C2' 'C1' 'C1'\n",
      " 'C2' 'C1' 'C2' 'C2' 'C2' 'C2' 'C2' 'C1' 'C1' 'C1' 'C1' 'C2']\n"
     ]
    }
   ],
   "source": [
    "#weight method : uniform\n",
    "print(\"k=3\")\n",
    "print(\"weight method : uniform\")\n",
    "\n",
    "knn3Unifrom = KNeighborsClassifier(n_neighbors=3,metric='euclidean',weights='uniform')\n",
    "knn3Unifrom.fit(X_train,y_train)\n",
    "knn3Unifrom.predict(data.iloc[200:,:2])\n",
    "\n",
    "k3Pred_uni=knn3Unifrom.predict(x_test)\n",
    "accuracy_k3 = accuracy_score(y_test,k3Pred_uni)\n",
    "print(\"Accurancy =\", accuracy_k3)\n",
    "\n",
    "print(k3Pred_uni)\n",
    "\n",
    "#weight method : distance\n",
    "print(\"\\n\\nweight method : distance\")\n",
    "\n",
    "knn3Distance = KNeighborsClassifier(n_neighbors=3,metric='euclidean',weights='distance')\n",
    "knn3Distance.fit(X_train,y_train)\n",
    "knn3Distance.predict(data.iloc[200:,:2])\n",
    "\n",
    "k1Pred_dis=knn1Unifrom.predict(x_test)\n",
    "accuracy = accuracy_score(y_test,k1Pred_dis)\n",
    "print(\"Accurancy =\", accuracy)\n",
    "\n",
    "print(k1Pred_dis)\n",
    "\n"
   ]
  }
 ],
 "metadata": {
  "kernelspec": {
   "display_name": "Python 3",
   "language": "python",
   "name": "python3"
  },
  "language_info": {
   "codemirror_mode": {
    "name": "ipython",
    "version": 3
   },
   "file_extension": ".py",
   "mimetype": "text/x-python",
   "name": "python",
   "nbconvert_exporter": "python",
   "pygments_lexer": "ipython3",
   "version": "3.11.9"
  }
 },
 "nbformat": 4,
 "nbformat_minor": 2
}
