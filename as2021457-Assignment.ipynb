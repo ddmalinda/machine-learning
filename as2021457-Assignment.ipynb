{
 "cells": [
  {
   "cell_type": "markdown",
   "metadata": {},
   "source": [
    " AS2021457\n",
    " R.M.D.D.Malinda"
   ]
  },
  {
   "cell_type": "markdown",
   "metadata": {},
   "source": [
    "#import"
   ]
  },
  {
   "cell_type": "code",
   "execution_count": 7,
   "metadata": {},
   "outputs": [],
   "source": [
    "import pandas as pd\n",
    "import numpy as np\n",
    "\n",
    "from sklearn.neighbors import KNeighborsClassifier\n",
    "from sklearn.model_selection import train_test_split \n",
    "from sklearn.metrics import accuracy_score\n"
   ]
  },
  {
   "cell_type": "markdown",
   "metadata": {},
   "source": [
    "#Load the data"
   ]
  },
  {
   "cell_type": "code",
   "execution_count": 8,
   "metadata": {},
   "outputs": [],
   "source": [
    "data = pd.read_excel(\"./data3.xlsx\")\n",
    "data.insert(2,'class','0')\n",
    "data.loc[:100,'class'] ='C1'\n",
    "data.loc[100:200,'class']='C2'\n"
   ]
  },
  {
   "cell_type": "markdown",
   "metadata": {},
   "source": [
    "#Spilit the Data as test and training data\n",
    "\n",
    "\n"
   ]
  },
  {
   "cell_type": "code",
   "execution_count": 9,
   "metadata": {},
   "outputs": [],
   "source": [
    "\n",
    "x_data = data.iloc[:200,:2]\n",
    "y_data = data.iloc[:200, 2]\n"
   ]
  },
  {
   "cell_type": "markdown",
   "metadata": {},
   "source": [
    "**80% of the labeled data used for training and other 20% taken as test data to calculate the accuracy of the model.**"
   ]
  },
  {
   "cell_type": "code",
   "execution_count": 12,
   "metadata": {},
   "outputs": [],
   "source": [
    "X_train,x_test,y_train,y_test= train_test_split(x_data,y_data,train_size=0.8,test_size=0.2,random_state=1)"
   ]
  },
  {
   "cell_type": "markdown",
   "metadata": {},
   "source": [
    "**(a) Classify the last 20 points using k=1 and k=3 nearest neighbor rules an  Euclidean distance measure.**"
   ]
  },
  {
   "cell_type": "markdown",
   "metadata": {},
   "source": [
    "**when** k=1"
   ]
  },
  {
   "cell_type": "code",
   "execution_count": 13,
   "metadata": {},
   "outputs": [
    {
     "data": {
      "text/plain": [
       "array(['C1', 'C1', 'C1', 'C1', 'C1', 'C1', 'C1', 'C1', 'C1', 'C2', 'C2',\n",
       "       'C2', 'C2', 'C2', 'C2', 'C2', 'C2', 'C2', 'C2'], dtype=object)"
      ]
     },
     "execution_count": 13,
     "metadata": {},
     "output_type": "execute_result"
    }
   ],
   "source": [
    "knn1Euclidean = KNeighborsClassifier(n_neighbors=1,metric='euclidean')\n",
    "knn1Euclidean.fit(X_train,y_train)\n",
    "knn1Euclidean.predict(data.iloc[200:,:2])"
   ]
  },
  {
   "cell_type": "markdown",
   "metadata": {},
   "source": [
    "**when** k=3\n"
   ]
  },
  {
   "cell_type": "code",
   "execution_count": 14,
   "metadata": {},
   "outputs": [
    {
     "data": {
      "text/plain": [
       "array(['C1', 'C1', 'C1', 'C1', 'C1', 'C1', 'C1', 'C1', 'C1', 'C2', 'C2',\n",
       "       'C2', 'C2', 'C2', 'C2', 'C2', 'C2', 'C2', 'C2'], dtype=object)"
      ]
     },
     "execution_count": 14,
     "metadata": {},
     "output_type": "execute_result"
    }
   ],
   "source": [
    "knn3Euclidean = KNeighborsClassifier(n_neighbors=3,metric='euclidean')\n",
    "knn3Euclidean.fit(X_train,y_train)\n",
    "knn3Euclidean.predict(data.iloc[200:,:2])"
   ]
  },
  {
   "cell_type": "markdown",
   "metadata": {},
   "source": [
    "**(b)Which of the values of k seem to give more accurate results? (Calculate the accuracy for each K value)**"
   ]
  },
  {
   "cell_type": "markdown",
   "metadata": {},
   "source": [
    "**when** k=1"
   ]
  },
  {
   "cell_type": "code",
   "execution_count": 17,
   "metadata": {},
   "outputs": [
    {
     "name": "stdout",
     "output_type": "stream",
     "text": [
      "Accurancy = 0.875\n"
     ]
    }
   ],
   "source": [
    "k1Pred=knn1Euclidean.predict(x_test)\n",
    "accuracy = accuracy_score(y_test,k1Pred)\n",
    "print(\"Accurancy =\", accuracy)"
   ]
  },
  {
   "cell_type": "markdown",
   "metadata": {},
   "source": [
    "**when** k=3"
   ]
  },
  {
   "cell_type": "code",
   "execution_count": 19,
   "metadata": {},
   "outputs": [
    {
     "name": "stdout",
     "output_type": "stream",
     "text": [
      "Accurancy = 0.875\n"
     ]
    }
   ],
   "source": [
    "k3Pred=knn3Euclidean.predict(x_test)\n",
    "accuracy = accuracy_score(y_test,k3Pred)\n",
    "print(\"Accurancy =\", accuracy)"
   ]
  },
  {
   "cell_type": "markdown",
   "metadata": {},
   "source": [
    "*conclusion*: Result are same accurate. so  we can use any values of K that accoding to results."
   ]
  },
  {
   "cell_type": "markdown",
   "metadata": {},
   "source": [
    "**(c) Repeat the classification using Manhattan, Cosine and Chebyshev distance as proximity measure.**"
   ]
  },
  {
   "cell_type": "markdown",
   "metadata": {},
   "source": [
    "k=1"
   ]
  },
  {
   "cell_type": "code",
   "execution_count": 20,
   "metadata": {},
   "outputs": [
    {
     "data": {
      "text/plain": [
       "array(['C1', 'C1', 'C1', 'C1', 'C1', 'C1', 'C1', 'C1', 'C1', 'C2', 'C2',\n",
       "       'C2', 'C2', 'C2', 'C2', 'C2', 'C2', 'C2', 'C2'], dtype=object)"
      ]
     },
     "execution_count": 20,
     "metadata": {},
     "output_type": "execute_result"
    }
   ],
   "source": [
    "#Manhattan Distance\n",
    "knn1Manhattan=KNeighborsClassifier(n_neighbors=1,metric='manhattan')\n",
    "knn1Manhattan.fit(X_train,y_train)\n",
    "knn1Manhattan.predict(data.iloc[200:,:2])"
   ]
  },
  {
   "cell_type": "code",
   "execution_count": 21,
   "metadata": {},
   "outputs": [
    {
     "data": {
      "text/plain": [
       "array(['C1', 'C1', 'C1', 'C2', 'C2', 'C1', 'C1', 'C1', 'C1', 'C1', 'C2',\n",
       "       'C2', 'C2', 'C2', 'C1', 'C2', 'C2', 'C2', 'C2'], dtype=object)"
      ]
     },
     "execution_count": 21,
     "metadata": {},
     "output_type": "execute_result"
    }
   ],
   "source": [
    "#consine Distance \n",
    "knn1Cosine = KNeighborsClassifier(n_neighbors=1,metric='cosine')\n",
    "knn1Cosine.fit(X_train,y_train)\n",
    "knn1Cosine.predict(data.iloc[200:,:2])"
   ]
  },
  {
   "cell_type": "code",
   "execution_count": 22,
   "metadata": {},
   "outputs": [
    {
     "data": {
      "text/plain": [
       "array(['C1', 'C1', 'C1', 'C1', 'C1', 'C1', 'C1', 'C1', 'C1', 'C2', 'C2',\n",
       "       'C2', 'C2', 'C2', 'C2', 'C2', 'C2', 'C2', 'C2'], dtype=object)"
      ]
     },
     "execution_count": 22,
     "metadata": {},
     "output_type": "execute_result"
    }
   ],
   "source": [
    "#chebyshev Distance\n",
    "knn1Chebyshev = KNeighborsClassifier(n_neighbors=1,metric='chebyshev')\n",
    "knn1Chebyshev.fit(X_train,y_train)\n",
    "knn1Chebyshev.predict(data.iloc[200:,:2])"
   ]
  },
  {
   "cell_type": "markdown",
   "metadata": {},
   "source": [
    "k=3"
   ]
  },
  {
   "cell_type": "code",
   "execution_count": 23,
   "metadata": {},
   "outputs": [
    {
     "data": {
      "text/plain": [
       "array(['C1', 'C1', 'C1', 'C1', 'C1', 'C1', 'C1', 'C1', 'C1', 'C2', 'C2',\n",
       "       'C2', 'C2', 'C2', 'C2', 'C2', 'C2', 'C2', 'C2'], dtype=object)"
      ]
     },
     "execution_count": 23,
     "metadata": {},
     "output_type": "execute_result"
    }
   ],
   "source": [
    "#Manhattan Distance\n",
    "knn3Manhattan=KNeighborsClassifier(n_neighbors=3,metric='manhattan')\n",
    "knn3Manhattan.fit(X_train,y_train)\n",
    "knn3Manhattan.predict(data.iloc[200:,:2])"
   ]
  },
  {
   "cell_type": "code",
   "execution_count": 24,
   "metadata": {},
   "outputs": [
    {
     "data": {
      "text/plain": [
       "array(['C1', 'C1', 'C1', 'C1', 'C2', 'C1', 'C1', 'C1', 'C1', 'C1', 'C2',\n",
       "       'C2', 'C2', 'C2', 'C1', 'C2', 'C2', 'C2', 'C1'], dtype=object)"
      ]
     },
     "execution_count": 24,
     "metadata": {},
     "output_type": "execute_result"
    }
   ],
   "source": [
    "#consine Distance \n",
    "knn3Cosine = KNeighborsClassifier(n_neighbors=3,metric='cosine')\n",
    "knn3Cosine.fit(X_train,y_train)\n",
    "knn3Cosine.predict(data.iloc[200:,:2])"
   ]
  },
  {
   "cell_type": "code",
   "execution_count": 25,
   "metadata": {},
   "outputs": [
    {
     "data": {
      "text/plain": [
       "array(['C1', 'C1', 'C1', 'C1', 'C1', 'C1', 'C1', 'C1', 'C1', 'C2', 'C2',\n",
       "       'C2', 'C2', 'C2', 'C2', 'C2', 'C2', 'C2', 'C2'], dtype=object)"
      ]
     },
     "execution_count": 25,
     "metadata": {},
     "output_type": "execute_result"
    }
   ],
   "source": [
    "#chebyshev Distance\n",
    "knn3Chebyshev = KNeighborsClassifier(n_neighbors=3,metric='chebyshev')\n",
    "knn3Chebyshev.fit(X_train,y_train)\n",
    "knn3Chebyshev.predict(data.iloc[200:,:2])"
   ]
  },
  {
   "cell_type": "markdown",
   "metadata": {},
   "source": [
    "\n",
    "\n",
    "**(d) Is there a measure that is the most suitable for classifying the points into classes C1 and C2. (Calculate the accuracy for each measure with selected K value)**"
   ]
  },
  {
   "cell_type": "markdown",
   "metadata": {},
   "source": [
    "k=1"
   ]
  },
  {
   "cell_type": "code",
   "execution_count": 28,
   "metadata": {},
   "outputs": [
    {
     "name": "stdout",
     "output_type": "stream",
     "text": [
      "Euclidedean :Accurancy = 0.875\n",
      "\n",
      "Manhattan :Accurancy = 0.875\n",
      "\n",
      "Cosine :Accurancy = 0.725\n",
      "\n",
      "Chebyshev :Accurancy = 0.875\n"
     ]
    }
   ],
   "source": [
    "#euclidean\n",
    "k1Pred_euc=knn1Euclidean.predict(x_test)\n",
    "accuracyEuclidean = accuracy_score(y_test,k1Pred_euc)\n",
    "print(\"Euclidedean :Accurancy =\", accuracyEuclidean)\n",
    "\n",
    "#manhattan\n",
    "k1Pred_man=knn1Manhattan.predict(x_test)\n",
    "accuracyManhattan = accuracy_score(y_test,k1Pred_man)\n",
    "print(\"\\nManhattan :Accurancy =\", accuracyManhattan)\n",
    "\n",
    "#cosine\n",
    "k1Pred_cos=knn1Cosine.predict(x_test)\n",
    "accuracyCosine = accuracy_score(y_test,k1Pred_cos)\n",
    "print(\"\\nCosine :Accurancy =\", accuracyCosine)\n",
    "\n",
    "#chebyshev\n",
    "k1Pred_euc=knn1Euclidean.predict(x_test)\n",
    "accuracyChebyshev= accuracy_score(y_test,k1Pred_euc)\n",
    "print(\"\\nChebyshev :Accurancy =\", accuracyChebyshev)\n",
    "\n",
    "\n"
   ]
  },
  {
   "cell_type": "markdown",
   "metadata": {},
   "source": [
    "**conclusion** : \n",
    "\n",
    "In here,  when k=1, Euclidean, Manhattan, Chebyshev accuracy are same and more than Cosine accuracy. so Euclidean, Manhattan, Chebyshev are the most suitable for classifying the points into classes C1 and C2."
   ]
  },
  {
   "cell_type": "code",
   "execution_count": 30,
   "metadata": {},
   "outputs": [
    {
     "name": "stdout",
     "output_type": "stream",
     "text": [
      "Euclidedean :Accurancy = 0.875\n",
      "\n",
      "Manhattan :Accurancy = 0.85\n",
      "\n",
      "Cosine :Accurancy = 0.725\n",
      "\n",
      "Chebyshev :Accurancy = 0.875\n"
     ]
    }
   ],
   "source": [
    "#euclidean\n",
    "k1Pred_euc=knn3Euclidean.predict(x_test)\n",
    "accuracyEuclidean = accuracy_score(y_test,k1Pred_euc)\n",
    "print(\"Euclidedean :Accurancy =\", accuracyEuclidean)\n",
    "\n",
    "#manhattan\n",
    "k1Pred_man=knn3Manhattan.predict(x_test)\n",
    "accuracyManhattan = accuracy_score(y_test,k1Pred_man)\n",
    "print(\"\\nManhattan :Accurancy =\", accuracyManhattan)\n",
    "\n",
    "#cosine\n",
    "k1Pred_cos=knn3Cosine.predict(x_test)\n",
    "accuracyCosine = accuracy_score(y_test,k1Pred_cos)\n",
    "print(\"\\nCosine :Accurancy =\", accuracyCosine)\n",
    "\n",
    "#chebyshev\n",
    "k1Pred_euc=knn3Euclidean.predict(x_test)\n",
    "accuracyChebyshev= accuracy_score(y_test,k1Pred_euc)\n",
    "print(\"\\nChebyshev :Accurancy =\", accuracyChebyshev)\n",
    "\n",
    "\n"
   ]
  },
  {
   "cell_type": "markdown",
   "metadata": {},
   "source": [
    "**conclusion** : \n",
    "\n",
    "In here,  when k=1, Euclidean, Chebyshev accuracy are same and more than Cosine accuracy and Manhattan accuracy. so Euclidean, Chebyshev are the most suitable for classifying the points into classes C1 and C2."
   ]
  },
  {
   "cell_type": "markdown",
   "metadata": {},
   "source": [
    "***(e) Repeat the problem with weighted K nearest neighbor algorithm for k=1 and k=3 and Euclidean distance measure. Compare your results with results of part (a).***"
   ]
  },
  {
   "cell_type": "code",
   "execution_count": 50,
   "metadata": {},
   "outputs": [
    {
     "name": "stdout",
     "output_type": "stream",
     "text": [
      "k=1\n",
      "weight method : uniform\n",
      "Accurancy = 0.875\n",
      "['C1' 'C1' 'C2' 'C2' 'C2' 'C2' 'C1' 'C1' 'C1' 'C2' 'C2' 'C1' 'C1' 'C1'\n",
      " 'C2' 'C1' 'C2' 'C1' 'C2' 'C1' 'C2' 'C1' 'C1' 'C1' 'C1' 'C1' 'C1' 'C2'\n",
      " 'C2' 'C1' 'C1' 'C2' 'C2' 'C2' 'C2' 'C1' 'C2' 'C1' 'C1' 'C2']\n",
      "\n",
      "\n",
      "weight method : distance\n",
      "Accurancy = 0.875\n",
      "['C1' 'C1' 'C2' 'C2' 'C2' 'C2' 'C1' 'C1' 'C1' 'C2' 'C2' 'C1' 'C1' 'C1'\n",
      " 'C2' 'C1' 'C2' 'C1' 'C2' 'C1' 'C2' 'C1' 'C1' 'C1' 'C1' 'C1' 'C1' 'C2'\n",
      " 'C2' 'C1' 'C1' 'C2' 'C2' 'C2' 'C2' 'C1' 'C2' 'C1' 'C1' 'C2']\n"
     ]
    }
   ],
   "source": [
    "#weight method : uniform\n",
    "print(\"k=1\")\n",
    "print(\"weight method : uniform\")\n",
    "\n",
    "knn1Unifrom = KNeighborsClassifier(n_neighbors=1,metric='euclidean',weights='uniform')\n",
    "knn1Unifrom.fit(X_train,y_train)\n",
    "knn1Unifrom.predict(data.iloc[200:,:2])\n",
    "\n",
    "k1Pred_uni=knn1Unifrom.predict(x_test)\n",
    "accuracy = accuracy_score(y_test,k1Pred_uni)\n",
    "print(\"Accurancy =\", accuracy)\n",
    "\n",
    "print(k1Pred_uni)\n",
    "\n",
    "#weight method : distance\n",
    "print(\"\\n\\nweight method : distance\")\n",
    "\n",
    "knn1Distance = KNeighborsClassifier(n_neighbors=1,metric='euclidean',weights='distance')\n",
    "knn1Distance.fit(X_train,y_train)\n",
    "knn1Distance.predict(data.iloc[200:,:2])\n",
    "\n",
    "k1Pred_dis=knn1Unifrom.predict(x_test)\n",
    "accuracy = accuracy_score(y_test,k1Pred_dis)\n",
    "print(\"Accurancy =\", accuracy)\n",
    "\n",
    "print(k1Pred_dis)\n",
    "\n"
   ]
  },
  {
   "cell_type": "code",
   "execution_count": 51,
   "metadata": {},
   "outputs": [
    {
     "name": "stdout",
     "output_type": "stream",
     "text": [
      "k=3\n",
      "weight method : uniform\n",
      "Accurancy = 0.875\n",
      "['C1' 'C1' 'C1' 'C2' 'C2' 'C2' 'C2' 'C1' 'C1' 'C2' 'C2' 'C1' 'C1' 'C1'\n",
      " 'C2' 'C1' 'C2' 'C1' 'C2' 'C1' 'C1' 'C1' 'C1' 'C1' 'C1' 'C1' 'C1' 'C2'\n",
      " 'C2' 'C1' 'C1' 'C2' 'C2' 'C2' 'C2' 'C1' 'C1' 'C1' 'C1' 'C2']\n",
      "\n",
      "\n",
      "weight method : distance\n",
      "Accurancy = 0.875\n",
      "['C1' 'C1' 'C2' 'C2' 'C2' 'C2' 'C1' 'C1' 'C1' 'C2' 'C2' 'C1' 'C1' 'C1'\n",
      " 'C2' 'C1' 'C2' 'C1' 'C2' 'C1' 'C2' 'C1' 'C1' 'C1' 'C1' 'C1' 'C1' 'C2'\n",
      " 'C2' 'C1' 'C1' 'C2' 'C2' 'C2' 'C2' 'C1' 'C2' 'C1' 'C1' 'C2']\n"
     ]
    }
   ],
   "source": [
    "#weight method : uniform\n",
    "print(\"k=3\")\n",
    "print(\"weight method : uniform\")\n",
    "\n",
    "knn3Unifrom = KNeighborsClassifier(n_neighbors=3,metric='euclidean',weights='uniform')\n",
    "knn3Unifrom.fit(X_train,y_train)\n",
    "knn3Unifrom.predict(data.iloc[200:,:2])\n",
    "\n",
    "k3Pred_uni=knn3Unifrom.predict(x_test)\n",
    "accuracy_k3 = accuracy_score(y_test,k3Pred_uni)\n",
    "print(\"Accurancy =\", accuracy_k3)\n",
    "\n",
    "print(k3Pred_uni)\n",
    "\n",
    "#weight method : distance\n",
    "print(\"\\n\\nweight method : distance\")\n",
    "\n",
    "knn3Distance = KNeighborsClassifier(n_neighbors=3,metric='euclidean',weights='distance')\n",
    "knn3Distance.fit(X_train,y_train)\n",
    "knn3Distance.predict(data.iloc[200:,:2])\n",
    "\n",
    "k1Pred_dis=knn1Unifrom.predict(x_test)\n",
    "accuracy = accuracy_score(y_test,k1Pred_dis)\n",
    "print(\"Accurancy =\", accuracy)\n",
    "\n",
    "print(k1Pred_dis)\n",
    "\n"
   ]
  }
 ],
 "metadata": {
  "kernelspec": {
   "display_name": "Python 3",
   "language": "python",
   "name": "python3"
  },
  "language_info": {
   "codemirror_mode": {
    "name": "ipython",
    "version": 3
   },
   "file_extension": ".py",
   "mimetype": "text/x-python",
   "name": "python",
   "nbconvert_exporter": "python",
   "pygments_lexer": "ipython3",
   "version": "3.11.9"
  }
 },
 "nbformat": 4,
 "nbformat_minor": 2
}
