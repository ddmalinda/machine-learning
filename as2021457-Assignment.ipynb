{
 "cells": [
  {
   "cell_type": "markdown",
   "metadata": {},
   "source": [
    " AS2021457\n",
    " R.M.D.D.Malinda"
   ]
  },
  {
   "cell_type": "markdown",
   "metadata": {},
   "source": [
    "#import"
   ]
  },
  {
   "cell_type": "code",
   "execution_count": 24,
   "metadata": {},
   "outputs": [],
   "source": [
    "import pandas as pd\n",
    "import numpy as np\n",
    "\n",
    "from sklearn.neighbors import KNeighborsClassifier\n",
    "from sklearn.model_selection import train_test_split \n",
    "from sklearn.metrics import accuracy_score\n"
   ]
  },
  {
   "cell_type": "markdown",
   "metadata": {},
   "source": [
    "#Load the data"
   ]
  },
  {
   "cell_type": "code",
   "execution_count": 21,
   "metadata": {},
   "outputs": [],
   "source": [
    "data = pd.read_excel(\"./data3.xlsx\")\n",
    "data.insert(2,'class','0')\n",
    "data.loc[:100,'class'] ='C1'\n",
    "data.loc[100:200,'class']='C2'\n"
   ]
  },
  {
   "cell_type": "markdown",
   "metadata": {},
   "source": [
    "#Spilit the Data as test and training data\n",
    "\n",
    "\n"
   ]
  },
  {
   "cell_type": "code",
   "execution_count": 60,
   "metadata": {},
   "outputs": [],
   "source": [
    "\n",
    "x_data = data.iloc[:200,:2]\n",
    "y_data = data.iloc[:200, 2]\n"
   ]
  },
  {
   "cell_type": "markdown",
   "metadata": {},
   "source": [
    "**80% of the labeled data used for training and other 20% taken as test data to calculate the accuracy of the model.**"
   ]
  },
  {
   "cell_type": "code",
   "execution_count": 99,
   "metadata": {},
   "outputs": [],
   "source": [
    "X_train,X_test,y_train,y_test= train_test_split(x_data,y_data,train_size=0.8,test_size=0.2,random_state=1)"
   ]
  },
  {
   "cell_type": "markdown",
   "metadata": {},
   "source": [
    "**(a) Classify the last 20 points using k=1 and k=3 nearest neighbor rules an  Euclidean distance measure.**"
   ]
  },
  {
   "cell_type": "markdown",
   "metadata": {},
   "source": [
    "**when** k=1"
   ]
  },
  {
   "cell_type": "code",
   "execution_count": 95,
   "metadata": {},
   "outputs": [
    {
     "data": {
      "text/plain": [
       "array(['C1', 'C2', 'C1', 'C2', 'C1', 'C2', 'C2', 'C1', 'C1', 'C1', 'C1',\n",
       "       'C2', 'C1', 'C2', 'C2', 'C2', 'C1', 'C1', 'C1'], dtype=object)"
      ]
     },
     "execution_count": 95,
     "metadata": {},
     "output_type": "execute_result"
    }
   ],
   "source": [
    "knn1Euclidean = KNeighborsClassifier(n_neighbors=1,metric='euclidean')\n",
    "knn1Euclidean.fit(x_train,y_train)\n",
    "knn1Euclidean.predict(data.iloc[200:,:2])"
   ]
  },
  {
   "cell_type": "markdown",
   "metadata": {},
   "source": [
    "**when** k=3\n"
   ]
  },
  {
   "cell_type": "code",
   "execution_count": 96,
   "metadata": {},
   "outputs": [
    {
     "data": {
      "text/plain": [
       "array(['C1', 'C2', 'C1', 'C1', 'C1', 'C1', 'C2', 'C1', 'C1', 'C1', 'C1',\n",
       "       'C1', 'C2', 'C2', 'C2', 'C1', 'C1', 'C2', 'C1'], dtype=object)"
      ]
     },
     "execution_count": 96,
     "metadata": {},
     "output_type": "execute_result"
    }
   ],
   "source": [
    "knn3Euclidean = KNeighborsClassifier(n_neighbors=3,metric='euclidean')\n",
    "knn3Euclidean.fit(x_train,y_train)\n",
    "knn3Euclidean.predict(data.iloc[200:,:2])"
   ]
  },
  {
   "cell_type": "markdown",
   "metadata": {},
   "source": [
    "**(b)Which of the values of k seem to give more accurate results? (Calculate the accuracy for each K value)**"
   ]
  },
  {
   "cell_type": "markdown",
   "metadata": {},
   "source": [
    "**when** k=1"
   ]
  },
  {
   "cell_type": "code",
   "execution_count": 102,
   "metadata": {},
   "outputs": [
    {
     "name": "stdout",
     "output_type": "stream",
     "text": [
      "Accurancy = 0.625\n"
     ]
    }
   ],
   "source": [
    "k1Pred=knn1Euclidean.predict(X_test)\n",
    "accuracy = accuracy_score(y_test,k1Pred)\n",
    "print(\"Accurancy =\", accuracy)"
   ]
  },
  {
   "cell_type": "markdown",
   "metadata": {},
   "source": [
    "**when** k=3"
   ]
  },
  {
   "cell_type": "code",
   "execution_count": 100,
   "metadata": {},
   "outputs": [
    {
     "name": "stdout",
     "output_type": "stream",
     "text": [
      "Accurancy = 0.55\n"
     ]
    }
   ],
   "source": [
    "k3Pred=knn3Euclidean.predict(X_test)\n",
    "accuracy = accuracy_score(y_test,k3Pred)\n",
    "print(\"Accurancy =\", accuracy)"
   ]
  },
  {
   "cell_type": "markdown",
   "metadata": {},
   "source": [
    "*conclusion*: Result are same accurate"
   ]
  },
  {
   "cell_type": "markdown",
   "metadata": {},
   "source": [
    "***(c) Repeat the classification using Manhattan, Cosine and Chebyshev distance as proximity measure.***"
   ]
  },
  {
   "cell_type": "markdown",
   "metadata": {},
   "source": [
    "k=1"
   ]
  },
  {
   "cell_type": "code",
   "execution_count": 101,
   "metadata": {},
   "outputs": [
    {
     "data": {
      "text/plain": [
       "array(['C1', 'C2', 'C2', 'C1', 'C2', 'C1', 'C1', 'C2', 'C2', 'C1', 'C2',\n",
       "       'C2', 'C1', 'C1', 'C1', 'C2', 'C2', 'C1', 'C1'], dtype=object)"
      ]
     },
     "execution_count": 101,
     "metadata": {},
     "output_type": "execute_result"
    }
   ],
   "source": [
    "#Manhattan Distance\n",
    "knn1Manhattan=KNeighborsClassifier(n_neighbors=1,metric='manhattan')\n",
    "knn1Manhattan.fit(x_train,y_train)\n",
    "knn1Manhattan.predict(data.iloc[200:,:2])"
   ]
  },
  {
   "cell_type": "code",
   "execution_count": 85,
   "metadata": {},
   "outputs": [
    {
     "data": {
      "text/plain": [
       "array(['C1', 'C1', 'C1', 'C2', 'C2', 'C1', 'C1', 'C1', 'C2', 'C2', 'C2',\n",
       "       'C2', 'C2', 'C2', 'C1', 'C2', 'C2', 'C2', 'C2'], dtype=object)"
      ]
     },
     "execution_count": 85,
     "metadata": {},
     "output_type": "execute_result"
    }
   ],
   "source": [
    "#consine Distance \n",
    "knn1Cosine = KNeighborsClassifier(n_neighbors=1,metric='cosine')\n",
    "knn1Cosine.fit(X_train,y_train)\n",
    "knn1Cosine.predict(data.iloc[200:,:2])"
   ]
  },
  {
   "cell_type": "code",
   "execution_count": 88,
   "metadata": {},
   "outputs": [
    {
     "data": {
      "text/plain": [
       "array(['C1', 'C1', 'C1', 'C1', 'C1', 'C1', 'C1', 'C1', 'C1', 'C2', 'C2',\n",
       "       'C2', 'C2', 'C2', 'C2', 'C2', 'C2', 'C2', 'C2'], dtype=object)"
      ]
     },
     "execution_count": 88,
     "metadata": {},
     "output_type": "execute_result"
    }
   ],
   "source": [
    "#chebyshev Distance\n",
    "knn1Chebyshev = KNeighborsClassifier(n_neighbors=1,metric='chebyshev')\n",
    "knn1Chebyshev.fit(X_train,y_train)\n",
    "knn1Chebyshev.predict(data.iloc[200:,:2])"
   ]
  },
  {
   "cell_type": "markdown",
   "metadata": {},
   "source": [
    "k=3"
   ]
  },
  {
   "cell_type": "code",
   "execution_count": 103,
   "metadata": {},
   "outputs": [
    {
     "data": {
      "text/plain": [
       "array(['C2', 'C1', 'C1', 'C1', 'C1', 'C1', 'C2', 'C2', 'C1', 'C1', 'C2',\n",
       "       'C2', 'C1', 'C1', 'C1', 'C1', 'C2', 'C2', 'C1'], dtype=object)"
      ]
     },
     "execution_count": 103,
     "metadata": {},
     "output_type": "execute_result"
    }
   ],
   "source": [
    "#Manhattan Distance\n",
    "knn3Manhattan=KNeighborsClassifier(n_neighbors=3,metric='manhattan')\n",
    "knn3Manhattan.fit(x_train,y_train)\n",
    "knn3Manhattan.predict(data.iloc[200:,:2])"
   ]
  },
  {
   "cell_type": "code",
   "execution_count": null,
   "metadata": {},
   "outputs": [],
   "source": [
    "#consine Distance \n",
    "knn3Cosine = KNeighborsClassifier(n_neighbors=3,metric='cosine')\n",
    "knn3Cosine.fit(X_train,y_train)\n",
    "knn3Cosine.predict(data.iloc[200:,:2])"
   ]
  },
  {
   "cell_type": "code",
   "execution_count": null,
   "metadata": {},
   "outputs": [],
   "source": [
    "#chebyshev Distance\n",
    "knn3Chebyshev = KNeighborsClassifier(n_neighbors=3,metric='chebyshev')\n",
    "knn3Chebyshev.fit(X_train,y_train)\n",
    "knn3Chebyshev.predict(data.iloc[200:,:2])"
   ]
  }
 ],
 "metadata": {
  "kernelspec": {
   "display_name": "Python 3",
   "language": "python",
   "name": "python3"
  },
  "language_info": {
   "codemirror_mode": {
    "name": "ipython",
    "version": 3
   },
   "file_extension": ".py",
   "mimetype": "text/x-python",
   "name": "python",
   "nbconvert_exporter": "python",
   "pygments_lexer": "ipython3",
   "version": "3.11.9"
  }
 },
 "nbformat": 4,
 "nbformat_minor": 2
}
